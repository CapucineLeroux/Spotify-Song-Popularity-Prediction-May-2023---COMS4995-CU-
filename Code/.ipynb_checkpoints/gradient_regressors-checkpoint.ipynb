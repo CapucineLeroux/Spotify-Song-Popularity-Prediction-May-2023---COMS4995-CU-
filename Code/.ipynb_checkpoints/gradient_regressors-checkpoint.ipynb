{
 "cells": [
  {
   "cell_type": "code",
   "execution_count": 1,
   "metadata": {},
   "outputs": [],
   "source": [
    "import numpy as np\n",
    "import pandas as pd\n",
    "import seaborn as sns\n",
    "import matplotlib.pyplot as plt\n",
    "import ast\n",
    "import time\n",
    "import zipfile\n",
    "import os\n",
    "from sklearn.model_selection import train_test_split, GridSearchCV, StratifiedKFold\n",
    "from sklearn.preprocessing import StandardScaler, OneHotEncoder, OrdinalEncoder\n",
    "from category_encoders import TargetEncoder\n",
    "from sklearn.metrics import r2_score, accuracy_score\n",
    "from sklearn.ensemble import RandomForestClassifier, HistGradientBoostingClassifier, GradientBoostingClassifier\n",
    "from sklearn.ensemble import GradientBoostingRegressor\n",
    "from xgboost import XGBClassifier, XGBRegressor\n"
   ]
  },
  {
   "cell_type": "code",
   "execution_count": 2,
   "metadata": {},
   "outputs": [
    {
     "data": {
      "text/html": [
       "<div>\n",
       "<style scoped>\n",
       "    .dataframe tbody tr th:only-of-type {\n",
       "        vertical-align: middle;\n",
       "    }\n",
       "\n",
       "    .dataframe tbody tr th {\n",
       "        vertical-align: top;\n",
       "    }\n",
       "\n",
       "    .dataframe thead th {\n",
       "        text-align: right;\n",
       "    }\n",
       "</style>\n",
       "<table border=\"1\" class=\"dataframe\">\n",
       "  <thead>\n",
       "    <tr style=\"text-align: right;\">\n",
       "      <th></th>\n",
       "      <th>id_tracks</th>\n",
       "      <th>name_tracks</th>\n",
       "      <th>popularity_tracks</th>\n",
       "      <th>explicit</th>\n",
       "      <th>danceability</th>\n",
       "      <th>energy</th>\n",
       "      <th>key</th>\n",
       "      <th>loudness</th>\n",
       "      <th>mode</th>\n",
       "      <th>speechiness</th>\n",
       "      <th>...</th>\n",
       "      <th>followers</th>\n",
       "      <th>genres</th>\n",
       "      <th>name_artists</th>\n",
       "      <th>popularity_artists</th>\n",
       "      <th>duration_ms_log</th>\n",
       "      <th>year</th>\n",
       "      <th>month</th>\n",
       "      <th>day</th>\n",
       "      <th>dayofweek</th>\n",
       "      <th>weekofyear</th>\n",
       "    </tr>\n",
       "  </thead>\n",
       "  <tbody>\n",
       "    <tr>\n",
       "      <th>0</th>\n",
       "      <td>07A5yehtSnoedViJAZkNnc</td>\n",
       "      <td>Vivo para Quererte - Remasterizado</td>\n",
       "      <td>0</td>\n",
       "      <td>0</td>\n",
       "      <td>0.434</td>\n",
       "      <td>0.1770</td>\n",
       "      <td>1</td>\n",
       "      <td>-21.180</td>\n",
       "      <td>1</td>\n",
       "      <td>0.0512</td>\n",
       "      <td>...</td>\n",
       "      <td>3528.0</td>\n",
       "      <td>tango', 'vintage tango</td>\n",
       "      <td>Ignacio Corsini</td>\n",
       "      <td>23</td>\n",
       "      <td>12.109782</td>\n",
       "      <td>1922</td>\n",
       "      <td>3</td>\n",
       "      <td>21</td>\n",
       "      <td>1</td>\n",
       "      <td>12</td>\n",
       "    </tr>\n",
       "    <tr>\n",
       "      <th>1</th>\n",
       "      <td>08FmqUhxtyLTn6pAh6bk45</td>\n",
       "      <td>El Prisionero - Remasterizado</td>\n",
       "      <td>0</td>\n",
       "      <td>0</td>\n",
       "      <td>0.321</td>\n",
       "      <td>0.0946</td>\n",
       "      <td>7</td>\n",
       "      <td>-27.961</td>\n",
       "      <td>1</td>\n",
       "      <td>0.0504</td>\n",
       "      <td>...</td>\n",
       "      <td>3528.0</td>\n",
       "      <td>tango', 'vintage tango</td>\n",
       "      <td>Ignacio Corsini</td>\n",
       "      <td>23</td>\n",
       "      <td>12.083379</td>\n",
       "      <td>1922</td>\n",
       "      <td>3</td>\n",
       "      <td>21</td>\n",
       "      <td>1</td>\n",
       "      <td>12</td>\n",
       "    </tr>\n",
       "    <tr>\n",
       "      <th>2</th>\n",
       "      <td>0JV4iqw2lSKJaHBQZ0e5zK</td>\n",
       "      <td>Martín Fierro - Remasterizado</td>\n",
       "      <td>0</td>\n",
       "      <td>0</td>\n",
       "      <td>0.548</td>\n",
       "      <td>0.0391</td>\n",
       "      <td>6</td>\n",
       "      <td>-23.228</td>\n",
       "      <td>1</td>\n",
       "      <td>0.1530</td>\n",
       "      <td>...</td>\n",
       "      <td>3528.0</td>\n",
       "      <td>tango', 'vintage tango</td>\n",
       "      <td>Ignacio Corsini</td>\n",
       "      <td>23</td>\n",
       "      <td>12.107208</td>\n",
       "      <td>1922</td>\n",
       "      <td>3</td>\n",
       "      <td>29</td>\n",
       "      <td>2</td>\n",
       "      <td>13</td>\n",
       "    </tr>\n",
       "    <tr>\n",
       "      <th>3</th>\n",
       "      <td>0l3BQsVJ7F76wlN5QhJzaP</td>\n",
       "      <td>El Vendaval - Remasterizado</td>\n",
       "      <td>0</td>\n",
       "      <td>0</td>\n",
       "      <td>0.370</td>\n",
       "      <td>0.3720</td>\n",
       "      <td>2</td>\n",
       "      <td>-17.138</td>\n",
       "      <td>1</td>\n",
       "      <td>0.0865</td>\n",
       "      <td>...</td>\n",
       "      <td>3528.0</td>\n",
       "      <td>tango', 'vintage tango</td>\n",
       "      <td>Ignacio Corsini</td>\n",
       "      <td>23</td>\n",
       "      <td>11.941671</td>\n",
       "      <td>1922</td>\n",
       "      <td>3</td>\n",
       "      <td>21</td>\n",
       "      <td>1</td>\n",
       "      <td>12</td>\n",
       "    </tr>\n",
       "    <tr>\n",
       "      <th>4</th>\n",
       "      <td>0xJCJ9XSNcdTIz0QKmhtEn</td>\n",
       "      <td>La Maleva - Remasterizado</td>\n",
       "      <td>0</td>\n",
       "      <td>0</td>\n",
       "      <td>0.339</td>\n",
       "      <td>0.0958</td>\n",
       "      <td>8</td>\n",
       "      <td>-26.944</td>\n",
       "      <td>1</td>\n",
       "      <td>0.0530</td>\n",
       "      <td>...</td>\n",
       "      <td>3528.0</td>\n",
       "      <td>tango', 'vintage tango</td>\n",
       "      <td>Ignacio Corsini</td>\n",
       "      <td>23</td>\n",
       "      <td>12.108680</td>\n",
       "      <td>1922</td>\n",
       "      <td>3</td>\n",
       "      <td>29</td>\n",
       "      <td>2</td>\n",
       "      <td>13</td>\n",
       "    </tr>\n",
       "  </tbody>\n",
       "</table>\n",
       "<p>5 rows × 27 columns</p>\n",
       "</div>"
      ],
      "text/plain": [
       "                id_tracks                         name_tracks  \\\n",
       "0  07A5yehtSnoedViJAZkNnc  Vivo para Quererte - Remasterizado   \n",
       "1  08FmqUhxtyLTn6pAh6bk45       El Prisionero - Remasterizado   \n",
       "2  0JV4iqw2lSKJaHBQZ0e5zK       Martín Fierro - Remasterizado   \n",
       "3  0l3BQsVJ7F76wlN5QhJzaP         El Vendaval - Remasterizado   \n",
       "4  0xJCJ9XSNcdTIz0QKmhtEn           La Maleva - Remasterizado   \n",
       "\n",
       "   popularity_tracks  explicit  danceability  energy  key  loudness  mode  \\\n",
       "0                  0         0         0.434  0.1770    1   -21.180     1   \n",
       "1                  0         0         0.321  0.0946    7   -27.961     1   \n",
       "2                  0         0         0.548  0.0391    6   -23.228     1   \n",
       "3                  0         0         0.370  0.3720    2   -17.138     1   \n",
       "4                  0         0         0.339  0.0958    8   -26.944     1   \n",
       "\n",
       "   speechiness  ...  followers                  genres     name_artists  \\\n",
       "0       0.0512  ...     3528.0  tango', 'vintage tango  Ignacio Corsini   \n",
       "1       0.0504  ...     3528.0  tango', 'vintage tango  Ignacio Corsini   \n",
       "2       0.1530  ...     3528.0  tango', 'vintage tango  Ignacio Corsini   \n",
       "3       0.0865  ...     3528.0  tango', 'vintage tango  Ignacio Corsini   \n",
       "4       0.0530  ...     3528.0  tango', 'vintage tango  Ignacio Corsini   \n",
       "\n",
       "   popularity_artists  duration_ms_log  year month  day dayofweek weekofyear  \n",
       "0                  23        12.109782  1922     3   21         1         12  \n",
       "1                  23        12.083379  1922     3   21         1         12  \n",
       "2                  23        12.107208  1922     3   29         2         13  \n",
       "3                  23        11.941671  1922     3   21         1         12  \n",
       "4                  23        12.108680  1922     3   29         2         13  \n",
       "\n",
       "[5 rows x 27 columns]"
      ]
     },
     "execution_count": 2,
     "metadata": {},
     "output_type": "execute_result"
    }
   ],
   "source": [
    "zip_file_path = '../Data/clean_df.zip'\n",
    "csv_file_name = 'clean_df.csv'\n",
    "\n",
    "# Open the zip file and extract the CSV file to a temporary directory\n",
    "with zipfile.ZipFile(zip_file_path, 'r') as zip_ref:\n",
    "    zip_ref.extract(csv_file_name, 'tmp')\n",
    "\n",
    "# Read the CSV file into a pandas DataFrame\n",
    "clean_df = pd.read_csv(f'tmp/{csv_file_name}')\n",
    "\n",
    "# Clean up the temporary directory by deleting the extracted CSV file\n",
    "os.remove(f'tmp/{csv_file_name}')\n",
    "\n",
    "# removing an unnecessary column\n",
    "clean_df = clean_df.drop(columns='Unnamed: 0')\n",
    "clean_df.head()"
   ]
  },
  {
   "cell_type": "code",
   "execution_count": 3,
   "metadata": {},
   "outputs": [],
   "source": [
    "num_features = ['explicit', 'danceability', 'energy', 'key',\n",
    "                'loudness', 'mode', 'speechiness', 'acousticness',\n",
    "                'instrumentalness', 'liveness', 'valence', 'tempo',\n",
    "                'time_signature', 'followers', 'popularity_artists', 'duration_ms_log']\n",
    "cat_features = ['id_tracks', 'name_tracks', 'id_artists', 'name_artists']\n",
    "date_feature = ['year', 'month', 'day', 'dayofweek', 'weekofyear']\n",
    "other_feature = ['genres']\n",
    "target = ['popularity_tracks']"
   ]
  },
  {
   "cell_type": "markdown",
   "metadata": {},
   "source": [
    "Since we only have 4 categorical features that are just identifiers of the tracks, I chose to ignore them for my training techniques and just focus on the numerical features that represent the actual audio features of a track"
   ]
  },
  {
   "cell_type": "code",
   "execution_count": 4,
   "metadata": {},
   "outputs": [
    {
     "name": "stdout",
     "output_type": "stream",
     "text": [
      "(345782, 16)\n",
      "(86446, 16)\n"
     ]
    }
   ],
   "source": [
    "# split data into features and target\n",
    "clean_df_X = clean_df[num_features]\n",
    "clean_df_y = clean_df[target]\n",
    "\n",
    "# Split the dataset into development (80%) and test (20%) sets.\n",
    "clean_df_X_dev, clean_df_X_test, clean_df_y_dev, clean_df_y_test = train_test_split(clean_df_X, clean_df_y, test_size=0.2, random_state=42)\n",
    "print(clean_df_X_dev.shape)\n",
    "print(clean_df_X_test.shape)"
   ]
  },
  {
   "cell_type": "markdown",
   "metadata": {},
   "source": [
    "# Classification"
   ]
  },
  {
   "cell_type": "markdown",
   "metadata": {},
   "source": [
    "## Gradient Boosting\n",
    "<img src=\"./gradient_screenshots/xgb_classifier.png\">"
   ]
  },
  {
   "cell_type": "markdown",
   "metadata": {},
   "source": [
    "# Regression"
   ]
  },
  {
   "cell_type": "markdown",
   "metadata": {},
   "source": [
    "## Gradient Boosting\n",
    "<img src=\"./gradient_screenshots/baseline_gradient.png\">"
   ]
  },
  {
   "cell_type": "markdown",
   "metadata": {},
   "source": [
    "### Baseline"
   ]
  },
  {
   "cell_type": "markdown",
   "metadata": {},
   "source": [
    "### Tuned Gradient Boosting Regressor\n",
    "<img src=\"./gradient_screenshots/tuned_gradient.png\">"
   ]
  },
  {
   "cell_type": "markdown",
   "metadata": {},
   "source": [
    "## XGBoosting"
   ]
  },
  {
   "cell_type": "markdown",
   "metadata": {},
   "source": [
    "### Baseline"
   ]
  },
  {
   "cell_type": "code",
   "execution_count": 7,
   "metadata": {},
   "outputs": [
    {
     "name": "stdout",
     "output_type": "stream",
     "text": [
      "======Baseline XGBoost Regressor======\n",
      "R2 score on dev data:  0.543513183503445\n",
      "R2 score on test data:  0.5108046701830479\n"
     ]
    }
   ],
   "source": [
    "XGBoost = XGBRegressor(random_state=42)\n",
    "XGBoost.fit(clean_df_X_dev, clean_df_y_dev)\n",
    "\n",
    "clean_df_y_dev_pred = XGBoost.predict(clean_df_X_dev)\n",
    "clean_df_y_test_pred = XGBoost.predict(clean_df_X_test)\n",
    "dev_accuracy = r2_score(clean_df_y_dev, clean_df_y_dev_pred)\n",
    "test_accuracy = r2_score(clean_df_y_test, clean_df_y_test_pred)\n",
    "print(\"======Baseline XGBoost Regressor======\")\n",
    "print(\"R2 score on dev data: \", dev_accuracy)\n",
    "print(\"R2 score on test data: \", test_accuracy)"
   ]
  },
  {
   "cell_type": "markdown",
   "metadata": {},
   "source": [
    "### Hyperparameter Tuning\n",
    "\n",
    "I chose to tune for the following hyperparameters: n_estimators, learning_rate, and max_depth.\n",
    "\n",
    "Since this process run for a long time (more than 3 hours) and did not finish, I am going to include the code a screenshot of the code I used as well as the partial results that I got."
   ]
  },
  {
   "cell_type": "markdown",
   "metadata": {},
   "source": [
    "<img src=\"./gradient_screenshots/grid_search.png\">"
   ]
  },
  {
   "cell_type": "markdown",
   "metadata": {},
   "source": [
    "From the hyperparameter tuning, we can see that the most optimal results are given by:\n",
    "- n_estimators = 250\n",
    "- learning_rate = 0.1\n",
    "- max_depth = 10\n",
    "\n",
    "Given the fact that results improved when we increased n_estimators from 100 to 250, given a learning rate of 0.1 and a max-depth of 10, I hypothesized that a higher number of trees (or n_estimators) leads to an improvement in scores.\n",
    "\n",
    "Therefore, I chose to retrain the model with:\n",
    "- n_estimators = 500\n",
    "- learning_rate = 0.1\n",
    "- max_depth = 10"
   ]
  },
  {
   "cell_type": "markdown",
   "metadata": {},
   "source": [
    "### Optimal XGBoosting"
   ]
  },
  {
   "cell_type": "code",
   "execution_count": 11,
   "metadata": {},
   "outputs": [
    {
     "name": "stdout",
     "output_type": "stream",
     "text": [
      "XGBoost after hyperparameter tuning\n",
      "R2 score on dev data:  0.7523710622602877\n",
      "R2 score on test data:  0.5591151724501486\n"
     ]
    }
   ],
   "source": [
    "XGBoost = XGBRegressor(random_state=42, n_estimators=500, learning_rate=0.1, max_depth=10)\n",
    "XGBoost.fit(clean_df_X_dev, clean_df_y_dev)\n",
    "\n",
    "clean_df_y_dev_pred = XGBoost.predict(clean_df_X_dev)\n",
    "clean_df_y_test_pred = XGBoost.predict(clean_df_X_test)\n",
    "\n",
    "dev_accuracy = r2_score(clean_df_y_dev, clean_df_y_dev_pred)\n",
    "test_accuracy = r2_score(clean_df_y_test, clean_df_y_test_pred)\n",
    "print(\"XGBoost after hyperparameter tuning\")\n",
    "print(\"R2 score on dev data: \", dev_accuracy)\n",
    "print(\"R2 score on test data: \", test_accuracy)"
   ]
  },
  {
   "cell_type": "markdown",
   "metadata": {},
   "source": [
    "#### Feature Importance  "
   ]
  },
  {
   "cell_type": "code",
   "execution_count": 19,
   "metadata": {},
   "outputs": [
    {
     "name": "stdout",
     "output_type": "stream",
     "text": [
      "The top 8 most important features for this trained tree are:  ['popularity_artists', 'explicit', 'loudness', 'acousticness', 'followers', 'duration_ms_log', 'instrumentalness', 'valence']\n"
     ]
    },
    {
     "data": {
      "text/plain": [
       "Text(0.5, 1.0, 'Feature Importances from XGBoost Model')"
      ]
     },
     "execution_count": 19,
     "metadata": {},
     "output_type": "execute_result"
    },
    {
     "data": {
      "image/png": "[encoded data removed]",
      "text/plain": [
       "<Figure size 640x480 with 1 Axes>"
      ]
     },
     "metadata": {},
     "output_type": "display_data"
    }
   ],
   "source": [
    "feature_importances = XGBoost.feature_importances_\n",
    "feature_names = XGBoost.feature_names_in_\n",
    "feature_importance_df = pd.DataFrame(\n",
    "    {'feature_names':feature_names,\n",
    "     'feature_importances':feature_importances\n",
    "    })\n",
    "feature_importance_df = feature_importance_df.sort_values(by='feature_importances', ascending=False)\n",
    "important_features = list(feature_importance_df['feature_names'])\n",
    "print(\"The top 8 most important features for this trained tree are: \", important_features[:8])\n",
    "\n",
    "fig, ax = plt.subplots()\n",
    "ax.barh(feature_importance_df['feature_names'], feature_importance_df['feature_importances'])\n",
    "ax.invert_yaxis()\n",
    "ax.set_xlabel('Feature Importance Score')\n",
    "ax.set_ylabel('Feature Name')\n",
    "ax.set_title('Feature Importances from XGBoost Model')"
   ]
  },
  {
   "cell_type": "markdown",
   "metadata": {},
   "source": [
    "#### Optimal XGBoost after Feature Importance"
   ]
  },
  {
   "cell_type": "markdown",
   "metadata": {},
   "source": [
    "##### Top 8 Features"
   ]
  },
  {
   "cell_type": "code",
   "execution_count": 20,
   "metadata": {},
   "outputs": [
    {
     "name": "stdout",
     "output_type": "stream",
     "text": [
      "XGBoost with top 8 features\n",
      "R2 score on dev data:  0.7124530049458058\n",
      "R2 score on test data:  0.5592703357808885\n"
     ]
    }
   ],
   "source": [
    "feat_X_dev = clean_df_X_dev[['popularity_artists', 'explicit', 'loudness', 'acousticness', 'followers', 'duration_ms_log', 'instrumentalness', 'valence']]\n",
    "feat_X_test = clean_df_X_test[['popularity_artists', 'explicit', 'loudness', 'acousticness', 'followers', 'duration_ms_log', 'instrumentalness', 'valence']]\n",
    "\n",
    "XGBoost = XGBRegressor(random_state=42, n_estimators=500, learning_rate=0.1, max_depth=10)\n",
    "XGBoost.fit(feat_X_dev, clean_df_y_dev)\n",
    "\n",
    "y_dev_pred = XGBoost.predict(feat_X_dev)\n",
    "y_test_pred = XGBoost.predict(feat_X_test)\n",
    "\n",
    "dev_accuracy = r2_score(clean_df_y_dev, y_dev_pred)\n",
    "test_accuracy = r2_score(clean_df_y_test, y_test_pred)\n",
    "\n",
    "print(\"XGBoost with top 8 features\")\n",
    "print(\"R2 score on dev data: \", dev_accuracy)\n",
    "print(\"R2 score on test data: \", test_accuracy)"
   ]
  },
  {
   "cell_type": "markdown",
   "metadata": {},
   "source": [
    "##### Top 6 Features"
   ]
  },
  {
   "cell_type": "code",
   "execution_count": 21,
   "metadata": {},
   "outputs": [
    {
     "name": "stdout",
     "output_type": "stream",
     "text": [
      "XGBoost with top 6 features\n",
      "R2 score on dev data:  0.6900363824987681\n",
      "R2 score on test data:  0.5610343373519205\n"
     ]
    }
   ],
   "source": [
    "feat_X_dev = clean_df_X_dev[['popularity_artists', 'explicit', 'loudness', 'acousticness', 'followers', 'duration_ms_log']]\n",
    "feat_X_test = clean_df_X_test[['popularity_artists', 'explicit', 'loudness', 'acousticness', 'followers', 'duration_ms_log']]\n",
    "\n",
    "XGBoost = XGBRegressor(random_state=42, n_estimators=500, learning_rate=0.1, max_depth=10)\n",
    "XGBoost.fit(feat_X_dev, clean_df_y_dev)\n",
    "\n",
    "y_dev_pred = XGBoost.predict(feat_X_dev)\n",
    "y_test_pred = XGBoost.predict(feat_X_test)\n",
    "\n",
    "dev_accuracy = r2_score(clean_df_y_dev, y_dev_pred)\n",
    "test_accuracy = r2_score(clean_df_y_test, y_test_pred)\n",
    "\n",
    "print(\"XGBoost with top 6 features\")\n",
    "print(\"R2 score on dev data: \", dev_accuracy)\n",
    "print(\"R2 score on test data: \", test_accuracy)"
   ]
  },
  {
   "cell_type": "markdown",
   "metadata": {},
   "source": [
    "##### Top 4 Features"
   ]
  },
  {
   "cell_type": "code",
   "execution_count": 22,
   "metadata": {},
   "outputs": [
    {
     "name": "stdout",
     "output_type": "stream",
     "text": [
      "XGBoost with top 4 features\n",
      "R2 score on dev data:  0.54205742047492\n",
      "R2 score on test data:  0.41070809514679985\n"
     ]
    }
   ],
   "source": [
    "feat_X_dev = clean_df_X_dev[['popularity_artists', 'explicit', 'loudness', 'acousticness']]\n",
    "feat_X_test = clean_df_X_test[['popularity_artists', 'explicit', 'loudness', 'acousticness']]\n",
    "\n",
    "XGBoost = XGBRegressor(random_state=42, n_estimators=500, learning_rate=0.1, max_depth=10)\n",
    "XGBoost.fit(feat_X_dev, clean_df_y_dev)\n",
    "\n",
    "y_dev_pred = XGBoost.predict(feat_X_dev)\n",
    "y_test_pred = XGBoost.predict(feat_X_test)\n",
    "\n",
    "dev_accuracy = r2_score(clean_df_y_dev, y_dev_pred)\n",
    "test_accuracy = r2_score(clean_df_y_test, y_test_pred)\n",
    "\n",
    "print(\"XGBoost with top 4 features\")\n",
    "print(\"R2 score on dev data: \", dev_accuracy)\n",
    "print(\"R2 score on test data: \", test_accuracy)"
   ]
  }
 ],
 "metadata": {
  "kernelspec": {
   "display_name": "Python 3 (ipykernel)",
   "language": "python",
   "name": "python3"
  },
  "language_info": {
   "codemirror_mode": {
    "name": "ipython",
    "version": 3
   },
   "file_extension": ".py",
   "mimetype": "text/x-python",
   "name": "python",
   "nbconvert_exporter": "python",
   "pygments_lexer": "ipython3",
   "version": "3.9.13"
  }
 },
 "nbformat": 4,
 "nbformat_minor": 2
}
